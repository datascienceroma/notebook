{
  "nbformat": 4,
  "nbformat_minor": 0,
  "metadata": {
    "colab": {
      "name": "[IAML] Tutorial Head API.ipynb",
      "version": "0.3.2",
      "views": {},
      "default_view": {},
      "provenance": [],
      "collapsed_sections": []
    },
    "kernelspec": {
      "name": "python3",
      "display_name": "Python 3"
    },
    "accelerator": "GPU"
  },
  "cells": [
    {
      "metadata": {
        "id": "dIXDTvwosP5I",
        "colab_type": "text"
      },
      "cell_type": "markdown",
      "source": [
        "# Multi-task learning TensorFlow with the Head API\n",
        "\n",
        "This notebook is a companion to the following blog post: \n",
        "https://iaml.it/blog/multitask-learning-tensorflow/"
      ]
    },
    {
      "metadata": {
        "id": "BAFgGCKOscr-",
        "colab_type": "text"
      },
      "cell_type": "markdown",
      "source": [
        "## Prerequisites"
      ]
    },
    {
      "metadata": {
        "id": "I2u1K6eO7U6_",
        "colab_type": "code",
        "colab": {
          "autoexec": {
            "startup": false,
            "wait_interval": 0
          },
          "base_uri": "https://localhost:8080/",
          "height": 952
        },
        "outputId": "4e2c9153-64ef-4f82-d25a-c51e00beedba",
        "executionInfo": {
          "status": "ok",
          "timestamp": 1523349001426,
          "user_tz": -120,
          "elapsed": 38616,
          "user": {
            "displayName": "Simone Scardapane",
            "photoUrl": "//lh6.googleusercontent.com/-ZK0nd0iCe7w/AAAAAAAAAAI/AAAAAAAAA_o/pNhWxdOsGTI/s50-c-k-no/photo.jpg",
            "userId": "115632300554726808471"
          }
        }
      },
      "cell_type": "code",
      "source": [
        "# Install all necessary packages\n",
        "!pip install tensorflow tqdm requests --upgrade"
      ],
      "execution_count": 1,
      "outputs": [
        {
          "output_type": "stream",
          "text": [
            "Collecting tensorflow\n",
            "  Downloading tensorflow-1.7.0-cp36-cp36m-manylinux1_x86_64.whl (48.0MB)\n",
            "\u001b[K    100% |████████████████████████████████| 48.0MB 29kB/s \n",
            "\u001b[?25hCollecting tqdm\n",
            "  Downloading tqdm-4.21.0-py2.py3-none-any.whl (42kB)\n",
            "\u001b[K    100% |████████████████████████████████| 51kB 10.9MB/s \n",
            "\u001b[?25hRequirement already up-to-date: requests in /usr/local/lib/python3.6/dist-packages\n",
            "Requirement already up-to-date: astor>=0.6.0 in /usr/local/lib/python3.6/dist-packages (from tensorflow)\n",
            "Requirement already up-to-date: six>=1.10.0 in /usr/local/lib/python3.6/dist-packages (from tensorflow)\n",
            "Requirement already up-to-date: absl-py>=0.1.6 in /usr/local/lib/python3.6/dist-packages (from tensorflow)\n",
            "Collecting grpcio>=1.8.6 (from tensorflow)\n",
            "  Downloading grpcio-1.10.1-cp36-cp36m-manylinux1_x86_64.whl (7.7MB)\n",
            "\u001b[K    100% |████████████████████████████████| 7.7MB 182kB/s \n",
            "\u001b[?25hRequirement already up-to-date: termcolor>=1.1.0 in /usr/local/lib/python3.6/dist-packages (from tensorflow)\n",
            "Collecting tensorboard<1.8.0,>=1.7.0 (from tensorflow)\n",
            "  Downloading tensorboard-1.7.0-py3-none-any.whl (3.1MB)\n",
            "\u001b[K    100% |████████████████████████████████| 3.1MB 441kB/s \n",
            "\u001b[?25hCollecting wheel>=0.26 (from tensorflow)\n",
            "  Downloading wheel-0.31.0-py2.py3-none-any.whl (41kB)\n",
            "\u001b[K    100% |████████████████████████████████| 51kB 11.1MB/s \n",
            "\u001b[?25hCollecting protobuf>=3.4.0 (from tensorflow)\n",
            "  Downloading protobuf-3.5.2.post1-cp36-cp36m-manylinux1_x86_64.whl (6.4MB)\n",
            "\u001b[K    100% |████████████████████████████████| 6.4MB 207kB/s \n",
            "\u001b[?25hRequirement already up-to-date: gast>=0.2.0 in /usr/local/lib/python3.6/dist-packages (from tensorflow)\n",
            "Requirement already up-to-date: numpy>=1.13.3 in /usr/local/lib/python3.6/dist-packages (from tensorflow)\n",
            "Requirement already up-to-date: idna<2.7,>=2.5 in /usr/local/lib/python3.6/dist-packages (from requests)\n",
            "Requirement already up-to-date: urllib3<1.23,>=1.21.1 in /usr/local/lib/python3.6/dist-packages (from requests)\n",
            "Requirement already up-to-date: certifi>=2017.4.17 in /usr/local/lib/python3.6/dist-packages (from requests)\n",
            "Requirement already up-to-date: chardet<3.1.0,>=3.0.2 in /usr/local/lib/python3.6/dist-packages (from requests)\n",
            "Requirement already up-to-date: markdown>=2.6.8 in /usr/local/lib/python3.6/dist-packages (from tensorboard<1.8.0,>=1.7.0->tensorflow)\n",
            "Requirement already up-to-date: html5lib==0.9999999 in /usr/local/lib/python3.6/dist-packages (from tensorboard<1.8.0,>=1.7.0->tensorflow)\n",
            "Requirement already up-to-date: werkzeug>=0.11.10 in /usr/local/lib/python3.6/dist-packages (from tensorboard<1.8.0,>=1.7.0->tensorflow)\n",
            "Requirement already up-to-date: bleach==1.5.0 in /usr/local/lib/python3.6/dist-packages (from tensorboard<1.8.0,>=1.7.0->tensorflow)\n",
            "Collecting setuptools (from protobuf>=3.4.0->tensorflow)\n",
            "  Downloading setuptools-39.0.1-py2.py3-none-any.whl (569kB)\n",
            "\u001b[K    100% |████████████████████████████████| 573kB 2.3MB/s \n",
            "\u001b[?25hInstalling collected packages: setuptools, protobuf, grpcio, wheel, tensorboard, tensorflow, tqdm\n",
            "  Found existing installation: setuptools 36.2.7\n",
            "    Not uninstalling setuptools at /usr/lib/python3/dist-packages, outside environment /usr\n",
            "  Found existing installation: protobuf 3.5.2\n",
            "    Uninstalling protobuf-3.5.2:\n",
            "      Successfully uninstalled protobuf-3.5.2\n",
            "  Found existing installation: grpcio 1.10.0\n",
            "    Uninstalling grpcio-1.10.0:\n",
            "      Successfully uninstalled grpcio-1.10.0\n",
            "  Found existing installation: wheel 0.30.0\n",
            "    Uninstalling wheel-0.30.0:\n",
            "      Successfully uninstalled wheel-0.30.0\n",
            "  Found existing installation: tensorboard 1.6.0\n",
            "    Uninstalling tensorboard-1.6.0:\n",
            "      Successfully uninstalled tensorboard-1.6.0\n"
          ],
          "name": "stdout"
        },
        {
          "output_type": "stream",
          "text": [
            "  Found existing installation: tensorflow 1.6.0\n",
            "    Uninstalling tensorflow-1.6.0:\n",
            "      Successfully uninstalled tensorflow-1.6.0\n",
            "Successfully installed grpcio-1.10.1 protobuf-3.5.2.post1 setuptools-39.0.1 tensorboard-1.7.0 tensorflow-1.7.0 tqdm-4.21.0 wheel-0.31.0\n"
          ],
          "name": "stdout"
        }
      ]
    },
    {
      "metadata": {
        "id": "LgWC6pqx8dsN",
        "colab_type": "text"
      },
      "cell_type": "markdown",
      "source": [
        "## Data download"
      ]
    },
    {
      "metadata": {
        "id": "QS7cpKjW7vI2",
        "colab_type": "code",
        "colab": {
          "autoexec": {
            "startup": false,
            "wait_interval": 0
          },
          "base_uri": "https://localhost:8080/",
          "height": 34
        },
        "outputId": "aa8511a5-47eb-48f1-d018-cd3a23d129cf",
        "executionInfo": {
          "status": "ok",
          "timestamp": 1523350544090,
          "user_tz": -120,
          "elapsed": 1542624,
          "user": {
            "displayName": "Simone Scardapane",
            "photoUrl": "//lh6.googleusercontent.com/-ZK0nd0iCe7w/AAAAAAAAAAI/AAAAAAAAA_o/pNhWxdOsGTI/s50-c-k-no/photo.jpg",
            "userId": "115632300554726808471"
          }
        }
      },
      "cell_type": "code",
      "source": [
        "# Dataset is taken from here: http://mmlab.ie.cuhk.edu.hk/projects/TCDCN.html\n",
        "# Small code is taken from this StackOverflow thread: https://stackoverflow.com/questions/22676/how-do-i-download-a-file-over-http-using-python\n",
        "# This could take a while!\n",
        "\n",
        "from tqdm import tqdm\n",
        "import requests\n",
        "\n",
        "url = \"http://mmlab.ie.cuhk.edu.hk/projects/TCDCN/data/MTFL.zip\"\n",
        "response = requests.get(url, stream=True)\n",
        "\n",
        "with open(\"MTFL\", \"wb\") as handle:\n",
        "    for data in tqdm(response.iter_content(), unit=' KB'):\n",
        "        handle.write(data)"
      ],
      "execution_count": 2,
      "outputs": [
        {
          "output_type": "stream",
          "text": [
            "150152960 KB [25:41, 97417.50 KB/s]\n"
          ],
          "name": "stderr"
        }
      ]
    },
    {
      "metadata": {
        "id": "L68VPXP1B5S7",
        "colab_type": "code",
        "colab": {
          "autoexec": {
            "startup": false,
            "wait_interval": 0
          }
        }
      },
      "cell_type": "code",
      "source": [
        "# Unzip all files\n",
        "import zipfile\n",
        "zip_ref = zipfile.ZipFile('MTFL', 'r')\n",
        "zip_ref.extractall()\n",
        "zip_ref.close()"
      ],
      "execution_count": 0,
      "outputs": []
    },
    {
      "metadata": {
        "id": "vqhQv5NIDGmB",
        "colab_type": "code",
        "colab": {
          "autoexec": {
            "startup": false,
            "wait_interval": 0
          },
          "base_uri": "https://localhost:8080/",
          "height": 34
        },
        "outputId": "01d5cf6d-66de-4cde-a4f2-326cf964771d",
        "executionInfo": {
          "status": "ok",
          "timestamp": 1523350550840,
          "user_tz": -120,
          "elapsed": 1425,
          "user": {
            "displayName": "Simone Scardapane",
            "photoUrl": "//lh6.googleusercontent.com/-ZK0nd0iCe7w/AAAAAAAAAAI/AAAAAAAAA_o/pNhWxdOsGTI/s50-c-k-no/photo.jpg",
            "userId": "115632300554726808471"
          }
        }
      },
      "cell_type": "code",
      "source": [
        "!ls"
      ],
      "execution_count": 4,
      "outputs": [
        {
          "output_type": "stream",
          "text": [
            "AFLW  datalab  lfw_5590  MTFL  net_7876  readme.txt  testing.txt  training.txt\r\n"
          ],
          "name": "stdout"
        }
      ]
    },
    {
      "metadata": {
        "id": "VkksetbBslN8",
        "colab_type": "text"
      },
      "cell_type": "markdown",
      "source": [
        "## Data loading in Pandas"
      ]
    },
    {
      "metadata": {
        "id": "irEagJdmDJ2Z",
        "colab_type": "code",
        "colab": {
          "autoexec": {
            "startup": false,
            "wait_interval": 0
          }
        }
      },
      "cell_type": "code",
      "source": [
        "# Import dataset in Pandas\n",
        "import pandas as pd\n",
        "train_data = pd.read_csv('training.txt', sep=' ', header=None, skipinitialspace=True, nrows=10000)\n",
        "test_data = pd.read_csv('testing.txt', sep=' ', header=None, skipinitialspace=True, nrows=2995)"
      ],
      "execution_count": 0,
      "outputs": []
    },
    {
      "metadata": {
        "id": "k7R8CpmbDZCZ",
        "colab_type": "code",
        "colab": {
          "autoexec": {
            "startup": false,
            "wait_interval": 0
          },
          "base_uri": "https://localhost:8080/",
          "height": 305
        },
        "outputId": "25855091-15f2-4f40-9ba1-ba85d7b4b6b0",
        "executionInfo": {
          "status": "ok",
          "timestamp": 1523109020133,
          "user_tz": -120,
          "elapsed": 470,
          "user": {
            "displayName": "Simone Scardapane",
            "photoUrl": "//lh6.googleusercontent.com/-ZK0nd0iCe7w/AAAAAAAAAAI/AAAAAAAAA_o/pNhWxdOsGTI/s50-c-k-no/photo.jpg",
            "userId": "115632300554726808471"
          }
        }
      },
      "cell_type": "code",
      "source": [
        "train_data.iloc[0]"
      ],
      "execution_count": 7,
      "outputs": [
        {
          "output_type": "execute_result",
          "data": {
            "text/plain": [
              "0     lfw_5590\\Aaron_Eckhart_0001.jpg\n",
              "1                              107.25\n",
              "2                              147.75\n",
              "3                              126.25\n",
              "4                              106.25\n",
              "5                              140.75\n",
              "6                              108.75\n",
              "7                              113.25\n",
              "8                              143.75\n",
              "9                              158.75\n",
              "10                             162.75\n",
              "11                                  1\n",
              "12                                  2\n",
              "13                                  2\n",
              "14                                  3\n",
              "Name: 0, dtype: object"
            ]
          },
          "metadata": {
            "tags": []
          },
          "execution_count": 7
        }
      ]
    },
    {
      "metadata": {
        "id": "ljtpu_GNkjEq",
        "colab_type": "code",
        "colab": {
          "autoexec": {
            "startup": false,
            "wait_interval": 0
          }
        }
      },
      "cell_type": "code",
      "source": [
        "train_data.iloc[:, 0] = train_data.iloc[:, 0].apply(lambda s: s.replace('\\\\', '/')) # Needed for filename convention\n",
        "test_data.iloc[:, 0] = test_data.iloc[:, 0].apply(lambda s: s.replace('\\\\', '/')) # Needed for filename convention"
      ],
      "execution_count": 0,
      "outputs": []
    },
    {
      "metadata": {
        "id": "YxTTMzFq-SRO",
        "colab_type": "code",
        "colab": {
          "autoexec": {
            "startup": false,
            "wait_interval": 0
          }
        }
      },
      "cell_type": "code",
      "source": [
        "from sklearn import preprocessing\n",
        "train_data.iloc[:, 1:11] = preprocessing.MinMaxScaler().fit_transform(train_data.iloc[:, 1:11])\n",
        "test_data.iloc[:, 1:11] = preprocessing.MinMaxScaler().fit_transform(test_data.iloc[:, 1:11])"
      ],
      "execution_count": 0,
      "outputs": []
    },
    {
      "metadata": {
        "id": "OoXmkV3KFIzx",
        "colab_type": "text"
      },
      "cell_type": "markdown",
      "source": [
        "## Data loading with tf.data"
      ]
    },
    {
      "metadata": {
        "id": "N8aOYmorDcAg",
        "colab_type": "code",
        "colab": {
          "autoexec": {
            "startup": false,
            "wait_interval": 0
          }
        }
      },
      "cell_type": "code",
      "source": [
        "import numpy as np\n",
        "import tensorflow as tf"
      ],
      "execution_count": 0,
      "outputs": []
    },
    {
      "metadata": {
        "id": "1cYVCq3nuheK",
        "colab_type": "code",
        "colab": {
          "autoexec": {
            "startup": false,
            "wait_interval": 0
          },
          "base_uri": "https://localhost:8080/",
          "height": 34
        },
        "outputId": "0e083323-02fe-4dfc-ffa7-a954a4472d3d",
        "executionInfo": {
          "status": "ok",
          "timestamp": 1523353399399,
          "user_tz": -120,
          "elapsed": 523,
          "user": {
            "displayName": "Simone Scardapane",
            "photoUrl": "//lh6.googleusercontent.com/-ZK0nd0iCe7w/AAAAAAAAAAI/AAAAAAAAA_o/pNhWxdOsGTI/s50-c-k-no/photo.jpg",
            "userId": "115632300554726808471"
          }
        }
      },
      "cell_type": "code",
      "source": [
        "# Example code for handling datasets\n",
        "\n",
        "filenames = tf.constant(train_data.iloc[:, 0].tolist())\n",
        "labels = tf.constant(train_data.iloc[:, 1:].values)\n",
        "\n",
        "dataset = tf.data.Dataset.from_tensor_slices((filenames, labels))\n",
        "\n",
        "it = dataset.batch(64).make_one_shot_iterator().get_next()\n",
        "\n",
        "with tf.Session() as sess:\n",
        "  (imgs, labels) = sess.run(it)\n",
        "  print(imgs[0])"
      ],
      "execution_count": 23,
      "outputs": [
        {
          "output_type": "stream",
          "text": [
            "b'lfw_5590/Aaron_Eckhart_0001.jpg'\n"
          ],
          "name": "stdout"
        }
      ]
    },
    {
      "metadata": {
        "id": "oc8R1cCVkbXj",
        "colab_type": "code",
        "colab": {
          "autoexec": {
            "startup": false,
            "wait_interval": 0
          }
        }
      },
      "cell_type": "code",
      "source": [
        "# Reads an image from a file, decodes it into a dense tensor, and resizes it\n",
        "# to a fixed shape.\n",
        "def _parse_function(filename, label):\n",
        "  image_string = tf.read_file(filename) \n",
        "  image_decoded = tf.image.decode_jpeg(image_string, channels=3) # Channels needed because some test images are b/w\n",
        "  image_resized = tf.image.resize_images(image_decoded, [40, 40])\n",
        "  return {\"x\": image_resized}, label"
      ],
      "execution_count": 0,
      "outputs": []
    },
    {
      "metadata": {
        "id": "c74OEdVaEi_v",
        "colab_type": "code",
        "colab": {
          "autoexec": {
            "startup": false,
            "wait_interval": 0
          }
        }
      },
      "cell_type": "code",
      "source": [
        "# This snippet is adapted from here: https://www.tensorflow.org/programmers_guide/datasets\n",
        "\n",
        "def input_fn(data, is_eval=False):\n",
        "\n",
        "  # Path delle immagini\n",
        "  filenames = tf.constant(data.iloc[:, 0].tolist())\n",
        "\n",
        "  # Etichette delle immagini\n",
        "  labels = tf.constant(data.iloc[:, 1:].values.astype(np.float32))\n",
        "\n",
        "  # Costruisco il dataset\n",
        "  dataset = tf.data.Dataset.from_tensor_slices((filenames, labels))\n",
        "  dataset = dataset.map(_parse_function)\n",
        "\n",
        "  # Logica di training / testing\n",
        "  if is_eval:\n",
        "    dataset = dataset.batch(64)\n",
        "  else:\n",
        "    dataset = dataset.repeat().shuffle(1000).batch(64)\n",
        "    \n",
        "  # Costruisco l'iteratore\n",
        "  return dataset.make_one_shot_iterator().get_next()\n",
        "  \n",
        "  #for (filename, label) in tfe.Iterator(dataset):\n",
        "  #  d = _parse_function(filename, label)"
      ],
      "execution_count": 0,
      "outputs": []
    },
    {
      "metadata": {
        "id": "yZKbUwaUEjwf",
        "colab_type": "code",
        "colab": {
          "autoexec": {
            "startup": false,
            "wait_interval": 0
          },
          "base_uri": "https://localhost:8080/",
          "height": 398
        },
        "outputId": "e35f4353-e9b7-4092-da8f-f47557cd36a6",
        "executionInfo": {
          "status": "ok",
          "timestamp": 1523354055189,
          "user_tz": -120,
          "elapsed": 1107,
          "user": {
            "displayName": "Simone Scardapane",
            "photoUrl": "//lh6.googleusercontent.com/-ZK0nd0iCe7w/AAAAAAAAAAI/AAAAAAAAA_o/pNhWxdOsGTI/s50-c-k-no/photo.jpg",
            "userId": "115632300554726808471"
          }
        }
      },
      "cell_type": "code",
      "source": [
        "import matplotlib.pyplot as plt\n",
        "with tf.Session() as sess:\n",
        "  (imgs, labels) = sess.run(input_fn(train_data, True))\n",
        "  plt.imshow(imgs[\"x\"][0] / 255)\n",
        "  print(labels[0])"
      ],
      "execution_count": 63,
      "outputs": [
        {
          "output_type": "stream",
          "text": [
            "[0.33482143 0.32603687 0.3471564  0.3612805  0.2852697  0.4357639\n",
            " 0.47532895 0.41169155 0.35       0.36334747 1.         2.\n",
            " 2.         3.        ]\n"
          ],
          "name": "stdout"
        },
        {
          "output_type": "display_data",
          "data": {
            "image/png": "[encoded data removed]",
            "text/plain": [
              "<matplotlib.figure.Figure at 0x7fae0092def0>"
            ]
          },
          "metadata": {
            "tags": []
          }
        }
      ]
    },
    {
      "metadata": {
        "id": "npKsVLjwNjD0",
        "colab_type": "text"
      },
      "cell_type": "markdown",
      "source": [
        "## Standard classical estimator (single-task only!)"
      ]
    },
    {
      "metadata": {
        "id": "pVnf_A-rX3Fb",
        "colab_type": "code",
        "colab": {
          "autoexec": {
            "startup": false,
            "wait_interval": 0
          }
        }
      },
      "cell_type": "code",
      "source": [
        "def extract_features(features):\n",
        "  # Input Layer\n",
        "  input_layer = tf.reshape(features[\"x\"], [-1, 40, 40, 3])\n",
        "\n",
        "  # Primo layer convolutivo\n",
        "  conv1 = tf.layers.conv2d(inputs=input_layer, filters=16, kernel_size=[5, 5], padding=\"same\", activation=tf.nn.relu)\n",
        "  pool1 = tf.layers.max_pooling2d(inputs=conv1, pool_size=[2, 2], strides=2)\n",
        "\n",
        "  # Secondo layer convolutivo\n",
        "  conv2 = tf.layers.conv2d(inputs=pool1, filters=48, kernel_size=[3, 3], padding=\"same\", activation=tf.nn.relu)\n",
        "  pool2 = tf.layers.max_pooling2d(inputs=conv2, pool_size=[2, 2], strides=2)\n",
        "\n",
        "  # Terzo layer convolutivo\n",
        "  conv3 = tf.layers.conv2d(inputs=pool2, filters=64, kernel_size=[3, 3], padding=\"same\", activation=tf.nn.relu)\n",
        "  pool3 = tf.layers.max_pooling2d(inputs=conv3, pool_size=[2, 2], strides=2)\n",
        "  \n",
        "  # Quarto layer convolutivo\n",
        "  conv4 = tf.layers.conv2d(inputs=pool3, filters=64, kernel_size=[2, 2], padding=\"same\", activation=tf.nn.relu)\n",
        "  \n",
        "  # Dense Layer\n",
        "  flat = tf.reshape(conv4, [-1, 5 * 5 * 64])\n",
        "  dense = tf.layers.dense(inputs=flat, units=100, activation=tf.nn.relu)\n",
        "  \n",
        "  return dense"
      ],
      "execution_count": 0,
      "outputs": []
    },
    {
      "metadata": {
        "id": "LWkCaYrfM7qu",
        "colab_type": "code",
        "colab": {
          "autoexec": {
            "startup": false,
            "wait_interval": 0
          }
        }
      },
      "cell_type": "code",
      "source": [
        "# Adapted from here: https://www.tensorflow.org/tutorials/layers\n",
        "\n",
        "def single_task_cnn_model_fn(features, labels, mode):\n",
        "  \n",
        "  dense = extract_features(features)\n",
        "  \n",
        "  # Predizioni\n",
        "  predictions = tf.layers.dense(inputs=dense, units=2)\n",
        "\n",
        "  outputs = {\n",
        "      \"predictions\": predictions\n",
        "  }\n",
        "\n",
        "  if mode == tf.estimator.ModeKeys.PREDICT:\n",
        "    return tf.estimator.EstimatorSpec(mode=mode, predictions=outputs)\n",
        "\n",
        "  # Funzione costo (errore quadratico medio)\n",
        "  loss = tf.losses.mean_squared_error(labels=labels[:, 0:2], predictions=predictions)\n",
        "\n",
        "  # Ottimizzazione\n",
        "  if mode == tf.estimator.ModeKeys.TRAIN:\n",
        "    optimizer = tf.train.AdamOptimizer()\n",
        "    train_op = optimizer.minimize(loss=loss, global_step=tf.train.get_global_step())\n",
        "    return tf.estimator.EstimatorSpec(mode=mode, loss=loss, train_op=train_op)\n",
        "\n",
        "  # Valutazione del modello\n",
        "  eval_metric_ops = {\n",
        "      \"rmse\": tf.metrics.root_mean_squared_error(\n",
        "          labels=labels[:, 0:2], predictions=outputs[\"predictions\"])}\n",
        "  return tf.estimator.EstimatorSpec(\n",
        "      mode=mode, loss=loss, eval_metric_ops=eval_metric_ops)"
      ],
      "execution_count": 0,
      "outputs": []
    },
    {
      "metadata": {
        "id": "jcuFLCpMPDX-",
        "colab_type": "code",
        "colab": {
          "autoexec": {
            "startup": false,
            "wait_interval": 0
          },
          "base_uri": "https://localhost:8080/",
          "height": 71
        },
        "outputId": "cc51a89b-7d35-4de5-b953-83533e15e7ac",
        "executionInfo": {
          "status": "ok",
          "timestamp": 1523354083542,
          "user_tz": -120,
          "elapsed": 483,
          "user": {
            "displayName": "Simone Scardapane",
            "photoUrl": "//lh6.googleusercontent.com/-ZK0nd0iCe7w/AAAAAAAAAAI/AAAAAAAAA_o/pNhWxdOsGTI/s50-c-k-no/photo.jpg",
            "userId": "115632300554726808471"
          }
        }
      },
      "cell_type": "code",
      "source": [
        "# Create the Estimator\n",
        "single_task_classifier = tf.estimator.Estimator(\n",
        "    model_fn=single_task_cnn_model_fn, model_dir=\"/tmp/cnn_singletask\")"
      ],
      "execution_count": 66,
      "outputs": [
        {
          "output_type": "stream",
          "text": [
            "INFO:tensorflow:Using default config.\n",
            "INFO:tensorflow:Using config: {'_model_dir': '/tmp/cnn_singletask', '_tf_random_seed': None, '_save_summary_steps': 100, '_save_checkpoints_steps': None, '_save_checkpoints_secs': 600, '_session_config': None, '_keep_checkpoint_max': 5, '_keep_checkpoint_every_n_hours': 10000, '_log_step_count_steps': 100, '_service': None, '_cluster_spec': <tensorflow.python.training.server_lib.ClusterSpec object at 0x7fadfb0a98d0>, '_task_type': 'worker', '_task_id': 0, '_global_id_in_cluster': 0, '_master': '', '_evaluation_master': '', '_is_chief': True, '_num_ps_replicas': 0, '_num_worker_replicas': 1}\n"
          ],
          "name": "stdout"
        }
      ]
    },
    {
      "metadata": {
        "id": "ow5mfv11PX6M",
        "colab_type": "code",
        "colab": {
          "autoexec": {
            "startup": false,
            "wait_interval": 0
          },
          "base_uri": "https://localhost:8080/",
          "height": 340
        },
        "outputId": "855ae852-db1b-41d0-ad01-a979647b066e",
        "executionInfo": {
          "status": "ok",
          "timestamp": 1523354246258,
          "user_tz": -120,
          "elapsed": 154579,
          "user": {
            "displayName": "Simone Scardapane",
            "photoUrl": "//lh6.googleusercontent.com/-ZK0nd0iCe7w/AAAAAAAAAAI/AAAAAAAAA_o/pNhWxdOsGTI/s50-c-k-no/photo.jpg",
            "userId": "115632300554726808471"
          }
        }
      },
      "cell_type": "code",
      "source": [
        "# Train the model\n",
        "single_task_classifier.train(input_fn=lambda: input_fn(train_data), steps=500)"
      ],
      "execution_count": 67,
      "outputs": [
        {
          "output_type": "stream",
          "text": [
            "INFO:tensorflow:Calling model_fn.\n",
            "INFO:tensorflow:Done calling model_fn.\n",
            "INFO:tensorflow:Create CheckpointSaverHook.\n",
            "INFO:tensorflow:Graph was finalized.\n",
            "INFO:tensorflow:Running local_init_op.\n",
            "INFO:tensorflow:Done running local_init_op.\n",
            "INFO:tensorflow:Saving checkpoints for 1 into /tmp/cnn_singletask/model.ckpt.\n",
            "INFO:tensorflow:loss = 556.0696, step = 1\n",
            "INFO:tensorflow:global_step/sec: 3.19897\n",
            "INFO:tensorflow:loss = 0.07555919, step = 101 (31.262 sec)\n",
            "INFO:tensorflow:global_step/sec: 3.38642\n",
            "INFO:tensorflow:loss = 0.024925504, step = 201 (29.530 sec)\n",
            "INFO:tensorflow:global_step/sec: 3.23989\n",
            "INFO:tensorflow:loss = 0.04867403, step = 301 (30.866 sec)\n",
            "INFO:tensorflow:global_step/sec: 3.28112\n",
            "INFO:tensorflow:loss = 0.03839631, step = 401 (30.480 sec)\n",
            "INFO:tensorflow:Saving checkpoints for 500 into /tmp/cnn_singletask/model.ckpt.\n",
            "INFO:tensorflow:Loss for final step: 0.010943847.\n"
          ],
          "name": "stdout"
        },
        {
          "output_type": "execute_result",
          "data": {
            "text/plain": [
              "<tensorflow.python.estimator.estimator.Estimator at 0x7fadfb0a94a8>"
            ]
          },
          "metadata": {
            "tags": []
          },
          "execution_count": 67
        }
      ]
    },
    {
      "metadata": {
        "id": "E_TSHz9glrew",
        "colab_type": "code",
        "colab": {
          "autoexec": {
            "startup": false,
            "wait_interval": 0
          },
          "base_uri": "https://localhost:8080/",
          "height": 187
        },
        "outputId": "0ee21ece-0cb6-46b3-80e3-dbce26179dfd",
        "executionInfo": {
          "status": "ok",
          "timestamp": 1523354333615,
          "user_tz": -120,
          "elapsed": 6192,
          "user": {
            "displayName": "Simone Scardapane",
            "photoUrl": "//lh6.googleusercontent.com/-ZK0nd0iCe7w/AAAAAAAAAAI/AAAAAAAAA_o/pNhWxdOsGTI/s50-c-k-no/photo.jpg",
            "userId": "115632300554726808471"
          }
        }
      },
      "cell_type": "code",
      "source": [
        "single_task_classifier.evaluate(input_fn=lambda: input_fn(test_data, is_eval=True))"
      ],
      "execution_count": 69,
      "outputs": [
        {
          "output_type": "stream",
          "text": [
            "INFO:tensorflow:Calling model_fn.\n",
            "INFO:tensorflow:Done calling model_fn.\n",
            "INFO:tensorflow:Starting evaluation at 2018-04-10-09:58:47\n",
            "INFO:tensorflow:Graph was finalized.\n",
            "INFO:tensorflow:Restoring parameters from /tmp/cnn_singletask/model.ckpt-500\n",
            "INFO:tensorflow:Running local_init_op.\n",
            "INFO:tensorflow:Done running local_init_op.\n",
            "INFO:tensorflow:Finished evaluation at 2018-04-10-09:58:53\n",
            "INFO:tensorflow:Saving dict for global step 500: global_step = 500, loss = 0.08994147, rmse = 0.2998508\n"
          ],
          "name": "stdout"
        },
        {
          "output_type": "execute_result",
          "data": {
            "text/plain": [
              "{'global_step': 500, 'loss': 0.08994147, 'rmse': 0.2998508}"
            ]
          },
          "metadata": {
            "tags": []
          },
          "execution_count": 69
        }
      ]
    },
    {
      "metadata": {
        "id": "kwPRL-A-6ZaQ",
        "colab_type": "code",
        "colab": {
          "autoexec": {
            "startup": false,
            "wait_interval": 0
          }
        }
      },
      "cell_type": "code",
      "source": [
        "# Funzione di input per predizioni (hack, si potrebbe migliorare!)\n",
        "def input_fn_predict(data):\n",
        "\n",
        "  # Path delle immagini\n",
        "  filenames = tf.constant(data.iloc[:, 0].tolist())\n",
        "\n",
        "  # Etichette delle immagini\n",
        "  labels = tf.constant(data.iloc[:, 1:].values)\n",
        "\n",
        "  # Costruisco il dataset\n",
        "  dataset = tf.data.Dataset.from_tensor_slices((filenames, labels))\n",
        "  dataset = dataset.map(_parse_function)\n",
        "  dataset = dataset.batch(64)\n",
        "    \n",
        "  # Costruisco l'iteratore\n",
        "  f, l = dataset.make_one_shot_iterator().get_next()\n",
        "  return f\n",
        "  \n",
        "  #for (filename, label) in tfe.Iterator(dataset):\n",
        "  #  d = _parse_function(filename, label)"
      ],
      "execution_count": 0,
      "outputs": []
    },
    {
      "metadata": {
        "id": "-PlmCyy763AA",
        "colab_type": "code",
        "colab": {
          "autoexec": {
            "startup": false,
            "wait_interval": 0
          },
          "base_uri": "https://localhost:8080/",
          "height": 449
        },
        "outputId": "2d04b40d-2ff8-445c-dd5b-32868c0adfe2",
        "executionInfo": {
          "status": "ok",
          "timestamp": 1523354716402,
          "user_tz": -120,
          "elapsed": 6425,
          "user": {
            "displayName": "Simone Scardapane",
            "photoUrl": "//lh6.googleusercontent.com/-ZK0nd0iCe7w/AAAAAAAAAAI/AAAAAAAAA_o/pNhWxdOsGTI/s50-c-k-no/photo.jpg",
            "userId": "115632300554726808471"
          }
        }
      },
      "cell_type": "code",
      "source": [
        "# Valutiamo una singola predizione\n",
        "p = list(single_task_classifier.predict(lambda: input_fn_predict(test_data)))\n",
        "\n",
        "with tf.Session() as sess:\n",
        "  imgs = sess.run(input_fn_predict(test_data))\n",
        "  plt.imshow(imgs[\"x\"][1] / 255)\n",
        "  plt.scatter(p[1]['predictions'][0] * 40, p[1]['predictions'][1] * 40, 500, marker='x', color='red', linewidth=5)"
      ],
      "execution_count": 80,
      "outputs": [
        {
          "output_type": "stream",
          "text": [
            "INFO:tensorflow:Calling model_fn.\n",
            "INFO:tensorflow:Done calling model_fn.\n",
            "INFO:tensorflow:Graph was finalized.\n",
            "INFO:tensorflow:Restoring parameters from /tmp/cnn_singletask/model.ckpt-500\n",
            "INFO:tensorflow:Running local_init_op.\n",
            "INFO:tensorflow:Done running local_init_op.\n"
          ],
          "name": "stdout"
        },
        {
          "output_type": "display_data",
          "data": {
            "image/png": "[encoded data removed]",
            "text/plain": [
              "<matplotlib.figure.Figure at 0x7fadfaf54cf8>"
            ]
          },
          "metadata": {
            "tags": []
          }
        }
      ]
    },
    {
      "metadata": {
        "id": "7qxMQV2iBXFa",
        "colab_type": "text"
      },
      "cell_type": "markdown",
      "source": [
        "## Simplify the code with the Head API"
      ]
    },
    {
      "metadata": {
        "id": "SZlF0pOQlztD",
        "colab_type": "code",
        "colab": {
          "autoexec": {
            "startup": false,
            "wait_interval": 0
          }
        }
      },
      "cell_type": "code",
      "source": [
        "# Check the code here: https://www.tensorflow.org/api_docs/python/tf/contrib/estimator/regression_head\n",
        "\n",
        "def single_head_cnn_model_fn(features, labels, mode):\n",
        "  \n",
        "  dense = extract_features(features)\n",
        "  \n",
        "  # Predizioni\n",
        "  predictions = tf.layers.dense(inputs=dense, units=2)\n",
        "\n",
        "  # Ottimizzatore\n",
        "  optimizer = tf.train.AdamOptimizer()\n",
        "  \n",
        "  # Modello finale\n",
        "  regression_head = tf.contrib.estimator.regression_head(label_dimension=2)\n",
        "  return regression_head.create_estimator_spec(features, mode, predictions, labels[:, 0:2], lambda x: optimizer.minimize(x, global_step = tf.train.get_or_create_global_step()))"
      ],
      "execution_count": 0,
      "outputs": []
    },
    {
      "metadata": {
        "id": "NUm7W9-tu3Ij",
        "colab_type": "code",
        "colab": {
          "autoexec": {
            "startup": false,
            "wait_interval": 0
          },
          "base_uri": "https://localhost:8080/",
          "height": 71
        },
        "outputId": "cfedd949-a683-4ce0-f9e2-23ddd18fc846",
        "executionInfo": {
          "status": "ok",
          "timestamp": 1523354829827,
          "user_tz": -120,
          "elapsed": 515,
          "user": {
            "displayName": "Simone Scardapane",
            "photoUrl": "//lh6.googleusercontent.com/-ZK0nd0iCe7w/AAAAAAAAAAI/AAAAAAAAA_o/pNhWxdOsGTI/s50-c-k-no/photo.jpg",
            "userId": "115632300554726808471"
          }
        }
      },
      "cell_type": "code",
      "source": [
        "# Create the Estimator\n",
        "cnn_classifier = tf.estimator.Estimator(\n",
        "    model_fn=single_head_cnn_model_fn, model_dir=\"/tmp/cnn_single_head\")"
      ],
      "execution_count": 82,
      "outputs": [
        {
          "output_type": "stream",
          "text": [
            "INFO:tensorflow:Using default config.\n",
            "INFO:tensorflow:Using config: {'_model_dir': '/tmp/cnn_single_head', '_tf_random_seed': None, '_save_summary_steps': 100, '_save_checkpoints_steps': None, '_save_checkpoints_secs': 600, '_session_config': None, '_keep_checkpoint_max': 5, '_keep_checkpoint_every_n_hours': 10000, '_log_step_count_steps': 100, '_service': None, '_cluster_spec': <tensorflow.python.training.server_lib.ClusterSpec object at 0x7fae002b7dd8>, '_task_type': 'worker', '_task_id': 0, '_global_id_in_cluster': 0, '_master': '', '_evaluation_master': '', '_is_chief': True, '_num_ps_replicas': 0, '_num_worker_replicas': 1}\n"
          ],
          "name": "stdout"
        }
      ]
    },
    {
      "metadata": {
        "id": "PwienXlvvHsN",
        "colab_type": "code",
        "colab": {
          "autoexec": {
            "startup": false,
            "wait_interval": 0
          },
          "base_uri": "https://localhost:8080/",
          "height": 275
        },
        "outputId": "8d5da45f-598c-4f18-bc31-60d4a38b3906",
        "executionInfo": {
          "status": "ok",
          "timestamp": 1523354872051,
          "user_tz": -120,
          "elapsed": 38294,
          "user": {
            "displayName": "Simone Scardapane",
            "photoUrl": "//lh6.googleusercontent.com/-ZK0nd0iCe7w/AAAAAAAAAAI/AAAAAAAAA_o/pNhWxdOsGTI/s50-c-k-no/photo.jpg",
            "userId": "115632300554726808471"
          }
        }
      },
      "cell_type": "code",
      "source": [
        "# Train the model\n",
        "cnn_classifier.train(input_fn=lambda: input_fn(train_data), steps=100)"
      ],
      "execution_count": 83,
      "outputs": [
        {
          "output_type": "stream",
          "text": [
            "INFO:tensorflow:Calling model_fn.\n",
            "WARNING:tensorflow:From /usr/local/lib/python3.6/dist-packages/tensorflow/contrib/learn/python/learn/datasets/base.py:198: retry (from tensorflow.contrib.learn.python.learn.datasets.base) is deprecated and will be removed in a future version.\n",
            "Instructions for updating:\n",
            "Use the retry module or similar alternatives.\n",
            "INFO:tensorflow:Done calling model_fn.\n",
            "INFO:tensorflow:Create CheckpointSaverHook.\n",
            "INFO:tensorflow:Graph was finalized.\n",
            "INFO:tensorflow:Running local_init_op.\n",
            "INFO:tensorflow:Done running local_init_op.\n",
            "INFO:tensorflow:Saving checkpoints for 1 into /tmp/cnn_single_head/model.ckpt.\n",
            "INFO:tensorflow:loss = 19280.736, step = 1\n",
            "INFO:tensorflow:Saving checkpoints for 100 into /tmp/cnn_single_head/model.ckpt.\n",
            "INFO:tensorflow:Loss for final step: 14.961566.\n"
          ],
          "name": "stdout"
        },
        {
          "output_type": "execute_result",
          "data": {
            "text/plain": [
              "<tensorflow.python.estimator.estimator.Estimator at 0x7fae007316a0>"
            ]
          },
          "metadata": {
            "tags": []
          },
          "execution_count": 83
        }
      ]
    },
    {
      "metadata": {
        "id": "ZqfxV8_hDxT0",
        "colab_type": "text"
      },
      "cell_type": "markdown",
      "source": [
        "## Multi-task learning with the Head API"
      ]
    },
    {
      "metadata": {
        "id": "fA-cTIx5ZXSp",
        "colab_type": "code",
        "colab": {
          "autoexec": {
            "startup": false,
            "wait_interval": 0
          }
        }
      },
      "cell_type": "code",
      "source": [
        "def multihead_input_fn(data, is_eval=True):\n",
        "  features, labels = input_fn(data, is_eval=is_eval)\n",
        "  return features, {'head_eye': labels[:, 0:2], 'head_pose': tf.cast(labels[:, -1] - 1.0, tf.int32)}"
      ],
      "execution_count": 0,
      "outputs": []
    },
    {
      "metadata": {
        "id": "BHKg4Zu3vLdr",
        "colab_type": "code",
        "colab": {
          "autoexec": {
            "startup": false,
            "wait_interval": 0
          }
        }
      },
      "cell_type": "code",
      "source": [
        "def multi_head_cnn_model_fn(features, labels, mode):\n",
        "  \n",
        "  dense = extract_features(features)\n",
        "  \n",
        "  # Predizioni della rete (per ciascun task)\n",
        "  predictions_eye = tf.layers.dense(inputs=dense, units=2)\n",
        "  predictions_pose = tf.layers.dense(inputs=dense, units=5)\n",
        "  logits = {'head_eye': predictions_eye, 'head_pose': predictions_pose}\n",
        "  \n",
        "  # Ottimizzatore\n",
        "  optimizer = tf.train.AdamOptimizer()\n",
        "  \n",
        "  # Definiamo le due head\n",
        "  regression_head = tf.contrib.estimator.regression_head(name='head_eye', label_dimension=2)\n",
        "  classification_head = tf.contrib.estimator.multi_class_head(name='head_pose', n_classes=5)\n",
        "  \n",
        "  multi_head = tf.contrib.estimator.multi_head([regression_head, classification_head])\n",
        "  \n",
        "  return multi_head.create_estimator_spec(features, mode, logits, labels, lambda x: optimizer.minimize(x, global_step = tf.train.get_or_create_global_step()))"
      ],
      "execution_count": 0,
      "outputs": []
    },
    {
      "metadata": {
        "id": "Tq3qi_S8Z8vt",
        "colab_type": "code",
        "colab": {
          "autoexec": {
            "startup": false,
            "wait_interval": 0
          },
          "base_uri": "https://localhost:8080/",
          "height": 71
        },
        "outputId": "31dbaff8-d7ec-4e61-97c0-3c86196e1869",
        "executionInfo": {
          "status": "ok",
          "timestamp": 1523355830292,
          "user_tz": -120,
          "elapsed": 505,
          "user": {
            "displayName": "Simone Scardapane",
            "photoUrl": "//lh6.googleusercontent.com/-ZK0nd0iCe7w/AAAAAAAAAAI/AAAAAAAAA_o/pNhWxdOsGTI/s50-c-k-no/photo.jpg",
            "userId": "115632300554726808471"
          }
        }
      },
      "cell_type": "code",
      "source": [
        "# Create the Estimator\n",
        "multitask_classifier = tf.estimator.Estimator(\n",
        "    model_fn=multi_head_cnn_model_fn, model_dir=\"/tmp/cnn_multi_head\")"
      ],
      "execution_count": 96,
      "outputs": [
        {
          "output_type": "stream",
          "text": [
            "INFO:tensorflow:Using default config.\n",
            "INFO:tensorflow:Using config: {'_model_dir': '/tmp/cnn_multi_head', '_tf_random_seed': None, '_save_summary_steps': 100, '_save_checkpoints_steps': None, '_save_checkpoints_secs': 600, '_session_config': None, '_keep_checkpoint_max': 5, '_keep_checkpoint_every_n_hours': 10000, '_log_step_count_steps': 100, '_service': None, '_cluster_spec': <tensorflow.python.training.server_lib.ClusterSpec object at 0x7fadea4fd860>, '_task_type': 'worker', '_task_id': 0, '_global_id_in_cluster': 0, '_master': '', '_evaluation_master': '', '_is_chief': True, '_num_ps_replicas': 0, '_num_worker_replicas': 1}\n"
          ],
          "name": "stdout"
        }
      ]
    },
    {
      "metadata": {
        "id": "vLBmvRJhaAJ6",
        "colab_type": "code",
        "colab": {
          "autoexec": {
            "startup": false,
            "wait_interval": 0
          },
          "base_uri": "https://localhost:8080/",
          "height": 238
        },
        "outputId": "436ab235-7d4b-43ff-edfa-590edef7c5bb",
        "executionInfo": {
          "status": "ok",
          "timestamp": 1523355881471,
          "user_tz": -120,
          "elapsed": 50309,
          "user": {
            "displayName": "Simone Scardapane",
            "photoUrl": "//lh6.googleusercontent.com/-ZK0nd0iCe7w/AAAAAAAAAAI/AAAAAAAAA_o/pNhWxdOsGTI/s50-c-k-no/photo.jpg",
            "userId": "115632300554726808471"
          }
        }
      },
      "cell_type": "code",
      "source": [
        "# Train the model\n",
        "multitask_classifier.train(input_fn=lambda: multihead_input_fn(train_data), steps=500)"
      ],
      "execution_count": 97,
      "outputs": [
        {
          "output_type": "stream",
          "text": [
            "INFO:tensorflow:Calling model_fn.\n",
            "INFO:tensorflow:Done calling model_fn.\n",
            "INFO:tensorflow:Create CheckpointSaverHook.\n",
            "INFO:tensorflow:Graph was finalized.\n",
            "INFO:tensorflow:Running local_init_op.\n",
            "INFO:tensorflow:Done running local_init_op.\n",
            "INFO:tensorflow:Saving checkpoints for 1 into /tmp/cnn_multi_head/model.ckpt.\n",
            "INFO:tensorflow:loss = 66775.99, step = 1\n",
            "INFO:tensorflow:global_step/sec: 3.23734\n",
            "INFO:tensorflow:loss = 66.12974, step = 101 (30.897 sec)\n",
            "INFO:tensorflow:Saving checkpoints for 157 into /tmp/cnn_multi_head/model.ckpt.\n",
            "INFO:tensorflow:Loss for final step: 31.080082.\n"
          ],
          "name": "stdout"
        },
        {
          "output_type": "execute_result",
          "data": {
            "text/plain": [
              "<tensorflow.python.estimator.estimator.Estimator at 0x7fadea4fda20>"
            ]
          },
          "metadata": {
            "tags": []
          },
          "execution_count": 97
        }
      ]
    },
    {
      "metadata": {
        "id": "LlhkKD5haCg0",
        "colab_type": "code",
        "colab": {
          "autoexec": {
            "startup": false,
            "wait_interval": 0
          },
          "base_uri": "https://localhost:8080/",
          "height": 309
        },
        "outputId": "e5831a0f-2760-4416-f52e-dacc0bdff4d7",
        "executionInfo": {
          "status": "ok",
          "timestamp": 1523356056663,
          "user_tz": -120,
          "elapsed": 6649,
          "user": {
            "displayName": "Simone Scardapane",
            "photoUrl": "//lh6.googleusercontent.com/-ZK0nd0iCe7w/AAAAAAAAAAI/AAAAAAAAA_o/pNhWxdOsGTI/s50-c-k-no/photo.jpg",
            "userId": "115632300554726808471"
          }
        }
      },
      "cell_type": "code",
      "source": [
        "multitask_classifier.evaluate(input_fn=lambda: multihead_input_fn(test_data, is_eval=True))"
      ],
      "execution_count": 98,
      "outputs": [
        {
          "output_type": "stream",
          "text": [
            "INFO:tensorflow:Calling model_fn.\n",
            "INFO:tensorflow:Done calling model_fn.\n",
            "INFO:tensorflow:Starting evaluation at 2018-04-10-10:27:30\n",
            "INFO:tensorflow:Graph was finalized.\n",
            "INFO:tensorflow:Restoring parameters from /tmp/cnn_multi_head/model.ckpt-157\n",
            "INFO:tensorflow:Running local_init_op.\n",
            "INFO:tensorflow:Done running local_init_op.\n",
            "INFO:tensorflow:Finished evaluation at 2018-04-10-10:27:36\n",
            "INFO:tensorflow:Saving dict for global step 157: accuracy/head_pose = 0.36227044, average_loss/head_eye = 0.4777564, average_loss/head_pose = 1.4020722, global_step = 157, loss = 150.23335, loss/head_eye = 60.88853, loss/head_pose = 89.34481\n"
          ],
          "name": "stdout"
        },
        {
          "output_type": "execute_result",
          "data": {
            "text/plain": [
              "{'accuracy/head_pose': 0.36227044,\n",
              " 'average_loss/head_eye': 0.4777564,\n",
              " 'average_loss/head_pose': 1.4020722,\n",
              " 'global_step': 157,\n",
              " 'loss': 150.23335,\n",
              " 'loss/head_eye': 60.88853,\n",
              " 'loss/head_pose': 89.34481}"
            ]
          },
          "metadata": {
            "tags": []
          },
          "execution_count": 98
        }
      ]
    },
    {
      "metadata": {
        "id": "PylNZUlnGKHS",
        "colab_type": "code",
        "colab": {
          "autoexec": {
            "startup": false,
            "wait_interval": 0
          },
          "base_uri": "https://localhost:8080/",
          "height": 449
        },
        "outputId": "40a77f27-da2d-4db4-df20-84b658480327",
        "executionInfo": {
          "status": "ok",
          "timestamp": 1523356665134,
          "user_tz": -120,
          "elapsed": 6988,
          "user": {
            "displayName": "Simone Scardapane",
            "photoUrl": "//lh6.googleusercontent.com/-ZK0nd0iCe7w/AAAAAAAAAAI/AAAAAAAAA_o/pNhWxdOsGTI/s50-c-k-no/photo.jpg",
            "userId": "115632300554726808471"
          }
        }
      },
      "cell_type": "code",
      "source": [
        "# Valutiamo una singola predizione\n",
        "p = list(multitask_classifier.predict(lambda: input_fn_predict(test_data)))\n",
        "\n",
        "with tf.Session() as sess:\n",
        "  imgs = sess.run(input_fn_predict(test_data))\n",
        "  \n",
        "  font = {'family': 'serif',\n",
        "        'color':  'white',\n",
        "        'weight': 'bold',\n",
        "        'size': 16,\n",
        "        }\n",
        "\n",
        "  \n",
        "  img_idx = 1\n",
        "\n",
        "  prediction_eye = p[img_idx][(('head_eye', 'predictions'))]\n",
        "  prediction_pose = p[img_idx][(('head_pose', 'class_ids'))]\n",
        "  \n",
        "  plt.imshow(imgs[\"x\"][img_idx] / 255)\n",
        "  plt.scatter(prediction_eye[0] * 40, prediction_eye[1] * 40, 500, marker='x', color='red', linewidth=5)\n",
        "  plt.text(5, 3, 'Predicted pose: {}'.format(prediction_pose), fontdict=font)"
      ],
      "execution_count": 126,
      "outputs": [
        {
          "output_type": "stream",
          "text": [
            "INFO:tensorflow:Calling model_fn.\n",
            "INFO:tensorflow:Done calling model_fn.\n",
            "INFO:tensorflow:Graph was finalized.\n",
            "INFO:tensorflow:Restoring parameters from /tmp/cnn_multi_head/model.ckpt-157\n",
            "INFO:tensorflow:Running local_init_op.\n",
            "INFO:tensorflow:Done running local_init_op.\n"
          ],
          "name": "stdout"
        },
        {
          "output_type": "display_data",
          "data": {
            "image/png": "[encoded data removed]",
            "text/plain": [
              "<matplotlib.figure.Figure at 0x7fadfbb494e0>"
            ]
          },
          "metadata": {
            "tags": []
          }
        }
      ]
    },
    {
      "metadata": {
        "id": "_OzSmp3vG1a-",
        "colab_type": "code",
        "colab": {
          "autoexec": {
            "startup": false,
            "wait_interval": 0
          },
          "base_uri": "https://localhost:8080/",
          "height": 364
        },
        "outputId": "60ba37b4-86ca-4a0f-e398-a76ff729e48c",
        "executionInfo": {
          "status": "ok",
          "timestamp": 1523356541487,
          "user_tz": -120,
          "elapsed": 531,
          "user": {
            "displayName": "Simone Scardapane",
            "photoUrl": "//lh6.googleusercontent.com/-ZK0nd0iCe7w/AAAAAAAAAAI/AAAAAAAAA_o/pNhWxdOsGTI/s50-c-k-no/photo.jpg",
            "userId": "115632300554726808471"
          }
        }
      },
      "cell_type": "code",
      "source": [
        "  font = {'family': 'serif',\n",
        "        'color':  'white',\n",
        "        'weight': 'bold',\n",
        "        'size': 16,\n",
        "        }\n",
        "\n",
        "  \n",
        "  img_idx = 1\n",
        "\n",
        "  prediction_eye = p[img_idx][(('head_eye', 'predictions'))]\n",
        "  prediction_pose = p[img_idx][(('head_pose', 'class_ids'))]\n",
        "  \n",
        "  plt.imshow(imgs[\"x\"][img_idx] / 255)\n",
        "  plt.scatter(prediction_eye[0] * 40, prediction_eye[1] * 40, 500, marker='x', color='red', linewidth=5)\n",
        "  plt.text(5, 3, 'Predicted pose: {}'.format(prediction_pose), fontdict=font)"
      ],
      "execution_count": 125,
      "outputs": [
        {
          "output_type": "execute_result",
          "data": {
            "text/plain": [
              "Text(5,3,'Predicted pose: [3]')"
            ]
          },
          "metadata": {
            "tags": []
          },
          "execution_count": 125
        },
        {
          "output_type": "display_data",
          "data": {
            "image/png": "[encoded data removed]",
            "text/plain": [
              "<matplotlib.figure.Figure at 0x7fade84c8780>"
            ]
          },
          "metadata": {
            "tags": []
          }
        }
      ]
    }
  ]
}